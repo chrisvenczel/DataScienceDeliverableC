{
  "nbformat": 4,
  "nbformat_minor": 0,
  "metadata": {
    "colab": {
      "name": "Table Cleaning",
      "provenance": [],
      "collapsed_sections": []
    },
    "kernelspec": {
      "name": "python3",
      "display_name": "Python 3"
    },
    "language_info": {
      "name": "python"
    }
  },
  "cells": [
    {
      "cell_type": "code",
      "execution_count": null,
      "metadata": {
        "id": "xnvQ7buRLGFU"
      },
      "outputs": [],
      "source": [
        "import pandas as pd\n",
        "import numpy as np"
      ]
    },
    {
      "cell_type": "code",
      "source": [
        "# read the csv into a dataframe\n",
        "\n",
        "df = pd.read_csv('health.csv')"
      ],
      "metadata": {
        "id": "Q5LBDP5GLMSi"
      },
      "execution_count": 138,
      "outputs": []
    },
    {
      "cell_type": "code",
      "source": [
        "# print out the number of rows in our dataset\n",
        "\n",
        "print(len(df.index))"
      ],
      "metadata": {
        "colab": {
          "base_uri": "https://localhost:8080/"
        },
        "id": "uohT8PfjLPgR",
        "outputId": "b908f8ad-4867-4655-86fd-2f534278d5bc"
      },
      "execution_count": null,
      "outputs": [
        {
          "output_type": "stream",
          "name": "stdout",
          "text": [
            "144\n"
          ]
        }
      ]
    },
    {
      "cell_type": "code",
      "source": [
        "# print out the number of missing values per column\n",
        "\n",
        "df.isnull().sum().sort_values(ascending=False)"
      ],
      "metadata": {
        "colab": {
          "base_uri": "https://localhost:8080/"
        },
        "id": "TDSzRMBDQahV",
        "outputId": "53cbe952-7adb-4d14-ba19-37d740ed58db"
      },
      "execution_count": null,
      "outputs": [
        {
          "output_type": "execute_result",
          "data": {
            "text/plain": [
              "community_health_workers_per_1000                                         143\n",
              "prevalence_of_diabetes_20_to_79_percentage                                135\n",
              "prevalence_of_underweight_children_under_5_percentage                     118\n",
              "prevalence_of_overweight_children_under_5_percentage                      118\n",
              "prevalence_of_severe_wasting_female_children_under_5_percentage           118\n",
              "prevalence_of_severe_wasting_male_children_under_5_percentage             118\n",
              "prevalence_of_severe_wasting_children_under_5_percentage                  118\n",
              "prevalence_of_wasting_male_children_under_5_percentage                    118\n",
              "prevalence_of_wasting_female_children_under_5_percentage                  118\n",
              "prevalence_of_wasting_children_under_5_percentage                         118\n",
              "prevalence_of_underweight_male_children_under_5_percentage                118\n",
              "prevalence_of_stunting_male_children_under_5_percentage                   118\n",
              "prevalence_of_stunting_children_under_5_percentage                        118\n",
              "prevalence_of_underweight_femlae_children_under_5_percentage              118\n",
              "prevalence_of_stunting_female_children_under_5_percentage                 118\n",
              "percent_disease_death_rate_by_communicable_diseases                       117\n",
              "percent_disease_death_rate_by_non_communicable_diseases                   117\n",
              "prevalence_of_syphilis_women_antenatal_care_percentage                    105\n",
              "physicians_per_1000                                                        81\n",
              "total_undernourished                                                       69\n",
              "nurses_and_midwives_per_1000                                               69\n",
              "incidence_of_malaria_per_1000                                              60\n",
              "immunization_measles_two_doses_percentage_children                         52\n",
              "hiv_children_newly_infected                                                48\n",
              "hospital_beds_per_1000                                                     39\n",
              "prevalence_of_undernourishment_percentage                                  39\n",
              "prevalence_of_overweight_adults_percentage                                 36\n",
              "prevalence_of_overweight_female_adults_percentage                          36\n",
              "prevalence_of_overweight_male_adults_percentage                            36\n",
              "aids_death                                                                 32\n",
              "domestic_private_health_expenditure_per_capita                             28\n",
              "domestic_general_government_health_expenditure_per_capita                  28\n",
              "health_expenditure_per_capita                                              28\n",
              "hiv_per_1000                                                               22\n",
              "hiv_adults_newly_infected                                                  22\n",
              "prevalence_hiv_male_15_to_24_year_old_percentage                           22\n",
              "prevalence_hiv_female_15_to_24_year_old_percentage                         22\n",
              "immunization_hepb3_percentage_of_one_year_olds                             17\n",
              "mortality_rate_adult_male_per_1000                                         11\n",
              "mortality_rate_adult_female_per_1000                                       11\n",
              "immunization_pol3_percentage_of_one_year_olds                               9\n",
              "prevalence_of_anemia_women_15_to_49_years_percentage                        9\n",
              "prevalence_of_anemia_children_6_to_59_months                                9\n",
              "mortality_cvd_cancer_diabetes_crd_30_to_70_year_olds_male_percentage        9\n",
              "mortality_cvd_cancer_diabetes_crd_30_to_70_year_olds_female_percentage      9\n",
              "mortality_cvd_cancer_diabetes_crd_30_to_70_year_olds_percentage             9\n",
              "immunization_dpt_percentage_of_12_to_23_months_old                          9\n",
              "number_of_stillbirths                                                       9\n",
              "country_code                                                                0\n",
              "tuberculosis_per_100000                                                     0\n",
              "yr                                                                          0\n",
              "mortality_rate_infant_male_per_1000                                         0\n",
              "mortality_rate_infant_female_per_1000                                       0\n",
              "mortality_rate_infant_per_1000                                              0\n",
              "tuberculosis_death_rate_per_100000                                          0\n",
              "dtype: int64"
            ]
          },
          "metadata": {},
          "execution_count": 129
        }
      ]
    },
    {
      "cell_type": "code",
      "source": [
        "# based on the number of missing values in each column, we will drop all columns \n",
        "# with more than 100 missing values (more than 70% missing values)\n",
        "\n",
        "# 100 - 70 = 30\n",
        "\n",
        "limit = len(df) * .30\n",
        "df = df.dropna(thresh=limit, axis=1)"
      ],
      "metadata": {
        "id": "xooeLLKCStQg"
      },
      "execution_count": null,
      "outputs": []
    },
    {
      "cell_type": "code",
      "source": [
        "# print out the number of missing values per column\n",
        "\n",
        "df.isnull().sum().sort_values(ascending=False)"
      ],
      "metadata": {
        "colab": {
          "base_uri": "https://localhost:8080/"
        },
        "id": "dlPDX8e2UQ_w",
        "outputId": "249b9652-4493-4c6b-8f68-e0c514f55f21"
      },
      "execution_count": null,
      "outputs": [
        {
          "output_type": "execute_result",
          "data": {
            "text/plain": [
              "physicians_per_1000                                                       81\n",
              "nurses_and_midwives_per_1000                                              69\n",
              "total_undernourished                                                      69\n",
              "incidence_of_malaria_per_1000                                             60\n",
              "immunization_measles_two_doses_percentage_children                        52\n",
              "hiv_children_newly_infected                                               48\n",
              "prevalence_of_undernourishment_percentage                                 39\n",
              "hospital_beds_per_1000                                                    39\n",
              "prevalence_of_overweight_male_adults_percentage                           36\n",
              "prevalence_of_overweight_female_adults_percentage                         36\n",
              "prevalence_of_overweight_adults_percentage                                36\n",
              "aids_death                                                                32\n",
              "domestic_general_government_health_expenditure_per_capita                 28\n",
              "domestic_private_health_expenditure_per_capita                            28\n",
              "health_expenditure_per_capita                                             28\n",
              "hiv_adults_newly_infected                                                 22\n",
              "hiv_per_1000                                                              22\n",
              "prevalence_hiv_male_15_to_24_year_old_percentage                          22\n",
              "prevalence_hiv_female_15_to_24_year_old_percentage                        22\n",
              "immunization_hepb3_percentage_of_one_year_olds                            17\n",
              "mortality_rate_adult_male_per_1000                                        11\n",
              "mortality_rate_adult_female_per_1000                                      11\n",
              "prevalence_of_anemia_children_6_to_59_months                               9\n",
              "immunization_dpt_percentage_of_12_to_23_months_old                         9\n",
              "number_of_stillbirths                                                      9\n",
              "immunization_pol3_percentage_of_one_year_olds                              9\n",
              "prevalence_of_anemia_women_15_to_49_years_percentage                       9\n",
              "mortality_cvd_cancer_diabetes_crd_30_to_70_year_olds_percentage            9\n",
              "mortality_cvd_cancer_diabetes_crd_30_to_70_year_olds_female_percentage     9\n",
              "mortality_cvd_cancer_diabetes_crd_30_to_70_year_olds_male_percentage       9\n",
              "country_code                                                               0\n",
              "tuberculosis_per_100000                                                    0\n",
              "yr                                                                         0\n",
              "mortality_rate_infant_male_per_1000                                        0\n",
              "mortality_rate_infant_female_per_1000                                      0\n",
              "mortality_rate_infant_per_1000                                             0\n",
              "tuberculosis_death_rate_per_100000                                         0\n",
              "dtype: int64"
            ]
          },
          "metadata": {},
          "execution_count": 131
        }
      ]
    },
    {
      "cell_type": "code",
      "source": [
        "# based on the number of missing values in the remaining columns, any column with less than 15% missing values \n",
        "# will be filled in with the average of the values for that column for that Country\n",
        "\n",
        "# 15% off 144 = 21.6 -> rounding up to 23 missing values maximum\n",
        "\n",
        "list_columns = (df.columns[df.isnull().sum() < 23]).tolist()\n",
        "list_columns.remove('country_code')\n",
        "list_columns.remove('yr')"
      ],
      "metadata": {
        "id": "GzP9uq_GUUEe"
      },
      "execution_count": null,
      "outputs": []
    },
    {
      "cell_type": "code",
      "source": [
        "for i in list_columns:\n",
        "  df[i] = (df[i].fillna(np.floor(df.groupby('country_code')[i].transform('mean')).astype('Int64')))\n"
      ],
      "metadata": {
        "id": "nqFkoTOBgDRq"
      },
      "execution_count": null,
      "outputs": []
    },
    {
      "cell_type": "code",
      "source": [
        "df.isnull().sum().sort_values(ascending=False)"
      ],
      "metadata": {
        "colab": {
          "base_uri": "https://localhost:8080/"
        },
        "id": "klBDwycqfcWE",
        "outputId": "ee92a1fc-4a47-4b38-ce1c-bfea14f026bd"
      },
      "execution_count": null,
      "outputs": [
        {
          "output_type": "execute_result",
          "data": {
            "text/plain": [
              "physicians_per_1000                                                       81\n",
              "nurses_and_midwives_per_1000                                              69\n",
              "total_undernourished                                                      69\n",
              "incidence_of_malaria_per_1000                                             60\n",
              "immunization_measles_two_doses_percentage_children                        52\n",
              "hiv_children_newly_infected                                               48\n",
              "prevalence_of_undernourishment_percentage                                 39\n",
              "hospital_beds_per_1000                                                    39\n",
              "prevalence_of_overweight_female_adults_percentage                         36\n",
              "prevalence_of_overweight_adults_percentage                                36\n",
              "prevalence_of_overweight_male_adults_percentage                           36\n",
              "aids_death                                                                32\n",
              "health_expenditure_per_capita                                             28\n",
              "domestic_general_government_health_expenditure_per_capita                 28\n",
              "domestic_private_health_expenditure_per_capita                            28\n",
              "hiv_adults_newly_infected                                                 16\n",
              "prevalence_hiv_male_15_to_24_year_old_percentage                          16\n",
              "prevalence_hiv_female_15_to_24_year_old_percentage                        16\n",
              "hiv_per_1000                                                              16\n",
              "country_code                                                               0\n",
              "mortality_cvd_cancer_diabetes_crd_30_to_70_year_olds_female_percentage     0\n",
              "prevalence_of_anemia_children_6_to_59_months                               0\n",
              "prevalence_of_anemia_women_15_to_49_years_percentage                       0\n",
              "mortality_cvd_cancer_diabetes_crd_30_to_70_year_olds_male_percentage       0\n",
              "immunization_hepb3_percentage_of_one_year_olds                             0\n",
              "mortality_cvd_cancer_diabetes_crd_30_to_70_year_olds_percentage            0\n",
              "tuberculosis_per_100000                                                    0\n",
              "immunization_pol3_percentage_of_one_year_olds                              0\n",
              "yr                                                                         0\n",
              "immunization_dpt_percentage_of_12_to_23_months_old                         0\n",
              "number_of_stillbirths                                                      0\n",
              "mortality_rate_infant_male_per_1000                                        0\n",
              "mortality_rate_infant_female_per_1000                                      0\n",
              "mortality_rate_infant_per_1000                                             0\n",
              "mortality_rate_adult_male_per_1000                                         0\n",
              "mortality_rate_adult_female_per_1000                                       0\n",
              "tuberculosis_death_rate_per_100000                                         0\n",
              "dtype: int64"
            ]
          },
          "metadata": {},
          "execution_count": 134
        }
      ]
    },
    {
      "cell_type": "code",
      "source": [
        "# export the cleaned data to a excel file\n",
        "\n",
        "df.to_excel(\"health_cleaned4.xlsx\")"
      ],
      "metadata": {
        "id": "UrCK9vIEgpUF"
      },
      "execution_count": null,
      "outputs": []
    },
    {
      "cell_type": "code",
      "source": [
        "# get order of columns for easy importing into Postgres using the terminal\n",
        "\n",
        "mylist = df.columns.tolist()\n",
        "print (*mylist, sep =', ')"
      ],
      "metadata": {
        "colab": {
          "base_uri": "https://localhost:8080/"
        },
        "id": "-wq-HnLEhCo9",
        "outputId": "0fc10f49-2031-47d1-fd45-d4dcec704787"
      },
      "execution_count": 139,
      "outputs": [
        {
          "output_type": "stream",
          "name": "stdout",
          "text": [
            "country_code, yr, prevalence_hiv_female_15_to_24_year_old_percentage, prevalence_hiv_male_15_to_24_year_old_percentage, mortality_rate_adult_female_per_1000, mortality_rate_adult_male_per_1000, mortality_rate_infant_per_1000, mortality_rate_infant_female_per_1000, mortality_rate_infant_male_per_1000, number_of_stillbirths, hiv_adults_newly_infected, aids_death, hiv_children_newly_infected, health_expenditure_per_capita, domestic_general_government_health_expenditure_per_capita, domestic_private_health_expenditure_per_capita, hospital_beds_per_1000, immunization_dpt_percentage_of_12_to_23_months_old, immunization_hepb3_percentage_of_one_year_olds, immunization_measles_two_doses_percentage_children, immunization_pol3_percentage_of_one_year_olds, hiv_per_1000, incidence_of_malaria_per_1000, tuberculosis_per_100000, mortality_cvd_cancer_diabetes_crd_30_to_70_year_olds_percentage, mortality_cvd_cancer_diabetes_crd_30_to_70_year_olds_female_percentage, mortality_cvd_cancer_diabetes_crd_30_to_70_year_olds_male_percentage, total_undernourished, nurses_and_midwives_per_1000, physicians_per_1000, prevalence_of_anemia_children_6_to_59_months, prevalence_of_anemia_women_15_to_49_years_percentage, prevalence_of_overweight_adults_percentage, prevalence_of_overweight_female_adults_percentage, prevalence_of_overweight_male_adults_percentage, prevalence_of_undernourishment_percentage, tuberculosis_death_rate_per_100000\n"
          ]
        }
      ]
    }
  ]
}